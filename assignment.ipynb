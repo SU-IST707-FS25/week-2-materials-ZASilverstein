{
 "cells": [
  {
   "cell_type": "markdown",
   "id": "8110fc71",
   "metadata": {
    "problem_id": "ex1"
   },
   "source": [
    "#### Exercise 1\n",
    "<!-- @q -->\n",
    "\n",
    "1. What kinds of EDA techniques might you use to explore the following types of data:\n",
    "    - Numeric data?  \n",
    "    - Categorical data?  \n",
    "    - The relationship between categorical and numeric data?"
   ]
  },
  {
   "cell_type": "markdown",
   "id": "813b98cf",
   "metadata": {
    "part_id": "ex1-part1",
    "span": "ex1-part1.answer",
    "student": true
   },
   "source": [
    "Numeric data can be explored through summary statistics and graphs, where categorical data can be explored to find the different catagories in the data and how many outputs in the column have each of the categorical options. To explore the relationship between categorical in the column have each of the categorical options. To explore the relationship between categorical and numerica data can be done using graphs (like boxplots and historgrams) and using subsets (what does the numeric data look like for one of the cacategories in the categorical data)."
   ]
  },
  {
   "cell_type": "markdown",
   "id": "e5af7624",
   "metadata": {
    "part_id": "ex1-part2"
   },
   "source": [
    "2. Generate some fake data (~1000 rows) with 1 categorical column (with 10 categories) and 2 numeric columns. Use the techniques you mentioned to explore the numeric, categorical, and the relationship between them."
   ]
  },
  {
   "cell_type": "code",
   "execution_count": 3,
   "id": "b78018a6",
   "metadata": {
    "additional_cells_expected": true,
    "part_id": "ex1-part2",
    "span": "ex1-part2.code",
    "student": true
   },
   "outputs": [
    {
     "data": {
      "text/html": [
       "<div>\n",
       "<style scoped>\n",
       "    .dataframe tbody tr th:only-of-type {\n",
       "        vertical-align: middle;\n",
       "    }\n",
       "\n",
       "    .dataframe tbody tr th {\n",
       "        vertical-align: top;\n",
       "    }\n",
       "\n",
       "    .dataframe thead th {\n",
       "        text-align: right;\n",
       "    }\n",
       "</style>\n",
       "<table border=\"1\" class=\"dataframe\">\n",
       "  <thead>\n",
       "    <tr style=\"text-align: right;\">\n",
       "      <th></th>\n",
       "      <th>Category</th>\n",
       "      <th>Numeric1</th>\n",
       "      <th>Numeric2</th>\n",
       "    </tr>\n",
       "  </thead>\n",
       "  <tbody>\n",
       "    <tr>\n",
       "      <th>0</th>\n",
       "      <td>D</td>\n",
       "      <td>350</td>\n",
       "      <td>66</td>\n",
       "    </tr>\n",
       "    <tr>\n",
       "      <th>1</th>\n",
       "      <td>G</td>\n",
       "      <td>200</td>\n",
       "      <td>62</td>\n",
       "    </tr>\n",
       "    <tr>\n",
       "      <th>2</th>\n",
       "      <td>A</td>\n",
       "      <td>300</td>\n",
       "      <td>62</td>\n",
       "    </tr>\n",
       "    <tr>\n",
       "      <th>3</th>\n",
       "      <td>I</td>\n",
       "      <td>450</td>\n",
       "      <td>78</td>\n",
       "    </tr>\n",
       "    <tr>\n",
       "      <th>4</th>\n",
       "      <td>K</td>\n",
       "      <td>300</td>\n",
       "      <td>60</td>\n",
       "    </tr>\n",
       "    <tr>\n",
       "      <th>...</th>\n",
       "      <td>...</td>\n",
       "      <td>...</td>\n",
       "      <td>...</td>\n",
       "    </tr>\n",
       "    <tr>\n",
       "      <th>995</th>\n",
       "      <td>B</td>\n",
       "      <td>400</td>\n",
       "      <td>81</td>\n",
       "    </tr>\n",
       "    <tr>\n",
       "      <th>996</th>\n",
       "      <td>J</td>\n",
       "      <td>200</td>\n",
       "      <td>71</td>\n",
       "    </tr>\n",
       "    <tr>\n",
       "      <th>997</th>\n",
       "      <td>C</td>\n",
       "      <td>200</td>\n",
       "      <td>29</td>\n",
       "    </tr>\n",
       "    <tr>\n",
       "      <th>998</th>\n",
       "      <td>F</td>\n",
       "      <td>300</td>\n",
       "      <td>89</td>\n",
       "    </tr>\n",
       "    <tr>\n",
       "      <th>999</th>\n",
       "      <td>E</td>\n",
       "      <td>400</td>\n",
       "      <td>54</td>\n",
       "    </tr>\n",
       "  </tbody>\n",
       "</table>\n",
       "<p>1000 rows × 3 columns</p>\n",
       "</div>"
      ],
      "text/plain": [
       "    Category  Numeric1  Numeric2\n",
       "0          D       350        66\n",
       "1          G       200        62\n",
       "2          A       300        62\n",
       "3          I       450        78\n",
       "4          K       300        60\n",
       "..       ...       ...       ...\n",
       "995        B       400        81\n",
       "996        J       200        71\n",
       "997        C       200        29\n",
       "998        F       300        89\n",
       "999        E       400        54\n",
       "\n",
       "[1000 rows x 3 columns]"
      ]
     },
     "execution_count": 3,
     "metadata": {},
     "output_type": "execute_result"
    }
   ],
   "source": [
    "import pandas as pd, numpy as np, random\n",
    "catagories = [\"A\", \"B\", \"C\", \"D\", \"E\", \"F\", \"G\", \"H\", \"I\", \"J\", \"K\"]\n",
    "numbers = list(range(101))\n",
    "fives  = list(range(200, 501, 50))\n",
    "random_letters = random.choices(catagories, k=1000)\n",
    "random_numbers = random.choices(numbers, k=1000)\n",
    "random_fives = random.choices(fives, k=1000)\n",
    "\n",
    "\n",
    "df = pd.DataFrame({\n",
    "    \"Category\": random_letters,\n",
    "    \"Numeric1\": random_fives,\n",
    "    \"Numeric2\": random_numbers\n",
    "})\n",
    "\n",
    "df"
   ]
  },
  {
   "cell_type": "code",
   "execution_count": 4,
   "id": "e9bdce91",
   "metadata": {
    "additional_cells_expected": true,
    "part_id": "ex1-part2",
    "span": "ex1-part2.code",
    "student": true
   },
   "outputs": [
    {
     "data": {
      "text/html": [
       "<div>\n",
       "<style scoped>\n",
       "    .dataframe tbody tr th:only-of-type {\n",
       "        vertical-align: middle;\n",
       "    }\n",
       "\n",
       "    .dataframe tbody tr th {\n",
       "        vertical-align: top;\n",
       "    }\n",
       "\n",
       "    .dataframe thead th {\n",
       "        text-align: right;\n",
       "    }\n",
       "</style>\n",
       "<table border=\"1\" class=\"dataframe\">\n",
       "  <thead>\n",
       "    <tr style=\"text-align: right;\">\n",
       "      <th></th>\n",
       "      <th>Numeric1</th>\n",
       "      <th>Numeric2</th>\n",
       "    </tr>\n",
       "  </thead>\n",
       "  <tbody>\n",
       "    <tr>\n",
       "      <th>count</th>\n",
       "      <td>1000.000000</td>\n",
       "      <td>1000.000000</td>\n",
       "    </tr>\n",
       "    <tr>\n",
       "      <th>mean</th>\n",
       "      <td>350.350000</td>\n",
       "      <td>50.032000</td>\n",
       "    </tr>\n",
       "    <tr>\n",
       "      <th>std</th>\n",
       "      <td>100.710079</td>\n",
       "      <td>29.114371</td>\n",
       "    </tr>\n",
       "    <tr>\n",
       "      <th>min</th>\n",
       "      <td>200.000000</td>\n",
       "      <td>0.000000</td>\n",
       "    </tr>\n",
       "    <tr>\n",
       "      <th>25%</th>\n",
       "      <td>250.000000</td>\n",
       "      <td>25.000000</td>\n",
       "    </tr>\n",
       "    <tr>\n",
       "      <th>50%</th>\n",
       "      <td>350.000000</td>\n",
       "      <td>50.000000</td>\n",
       "    </tr>\n",
       "    <tr>\n",
       "      <th>75%</th>\n",
       "      <td>450.000000</td>\n",
       "      <td>75.000000</td>\n",
       "    </tr>\n",
       "    <tr>\n",
       "      <th>max</th>\n",
       "      <td>500.000000</td>\n",
       "      <td>100.000000</td>\n",
       "    </tr>\n",
       "  </tbody>\n",
       "</table>\n",
       "</div>"
      ],
      "text/plain": [
       "          Numeric1     Numeric2\n",
       "count  1000.000000  1000.000000\n",
       "mean    350.350000    50.032000\n",
       "std     100.710079    29.114371\n",
       "min     200.000000     0.000000\n",
       "25%     250.000000    25.000000\n",
       "50%     350.000000    50.000000\n",
       "75%     450.000000    75.000000\n",
       "max     500.000000   100.000000"
      ]
     },
     "execution_count": 4,
     "metadata": {},
     "output_type": "execute_result"
    }
   ],
   "source": [
    "df.describe()\n"
   ]
  },
  {
   "cell_type": "code",
   "execution_count": 5,
   "id": "d32a8118",
   "metadata": {
    "additional_cells_expected": true,
    "part_id": "ex1-part2",
    "span": "ex1-part2.code",
    "student": true
   },
   "outputs": [
    {
     "data": {
      "text/plain": [
       "Category\n",
       "H    105\n",
       "K    102\n",
       "C     94\n",
       "G     93\n",
       "I     93\n",
       "J     90\n",
       "B     89\n",
       "E     88\n",
       "D     86\n",
       "A     81\n",
       "F     79\n",
       "Name: count, dtype: int64"
      ]
     },
     "execution_count": 5,
     "metadata": {},
     "output_type": "execute_result"
    }
   ],
   "source": [
    "df['Category'].value_counts()"
   ]
  },
  {
   "cell_type": "code",
   "execution_count": 6,
   "id": "89d6dab1",
   "metadata": {
    "additional_cells_expected": true,
    "part_id": "ex1-part2",
    "span": "ex1-part2.code",
    "student": true
   },
   "outputs": [
    {
     "data": {
      "text/plain": [
       "<Axes: >"
      ]
     },
     "execution_count": 6,
     "metadata": {},
     "output_type": "execute_result"
    },
    {
     "data": {
      "image/png": "[encoded data removed]",
      "text/plain": [
       "<Figure size 640x480 with 1 Axes>"
      ]
     },
     "metadata": {},
     "output_type": "display_data"
    }
   ],
   "source": [
    "df_pivot = df.pivot(columns='Category', values='Numeric1')\n",
    "df_pivot.plot(kind='box')"
   ]
  },
  {
   "cell_type": "code",
   "execution_count": 7,
   "id": "df5799fe",
   "metadata": {
    "additional_cells_expected": true,
    "part_id": "ex1-part2",
    "span": "ex1-part2.code",
    "student": true
   },
   "outputs": [
    {
     "data": {
      "text/plain": [
       "<Axes: >"
      ]
     },
     "execution_count": 7,
     "metadata": {},
     "output_type": "execute_result"
    },
    {
     "data": {
      "image/png": "[encoded data removed]",
      "text/plain": [
       "<Figure size 640x480 with 1 Axes>"
      ]
     },
     "metadata": {},
     "output_type": "display_data"
    }
   ],
   "source": [
    "df_pivot2 = df.pivot(columns='Category', values='Numeric2')\n",
    "df_pivot2.plot(kind='box')"
   ]
  },
  {
   "cell_type": "markdown",
   "id": "25320be1",
   "metadata": {
    "problem_id": "2"
   },
   "source": [
    "#### Exercise 2\n",
    "\n",
    "\n",
    "Generate a data set you can use with a supervised ML model.  The data should meet the following criteria:\n",
    "   - It should have 1000 rows\n",
    "   - It should have 6 columns, with one column (your \"target\" column being a boolean column), one categorical column with 5 categories, and 4 numeric columns.\n",
    "   - The numeric columns should have dramatically different scales - different means, different std. deviations.\n",
    "   - Each non-target column should have about 5% nulls.\n",
    "\n",
    "Make this data a little more interesting by calculating the target column using a noisy function of the other columns."
   ]
  },
  {
   "cell_type": "code",
   "execution_count": 8,
   "id": "a941ebec",
   "metadata": {
    "additional_cells_expected": true,
    "part_id": "2-part1",
    "span": "2-part1.code",
    "student": true
   },
   "outputs": [
    {
     "data": {
      "text/html": [
       "<div>\n",
       "<style scoped>\n",
       "    .dataframe tbody tr th:only-of-type {\n",
       "        vertical-align: middle;\n",
       "    }\n",
       "\n",
       "    .dataframe tbody tr th {\n",
       "        vertical-align: top;\n",
       "    }\n",
       "\n",
       "    .dataframe thead th {\n",
       "        text-align: right;\n",
       "    }\n",
       "</style>\n",
       "<table border=\"1\" class=\"dataframe\">\n",
       "  <thead>\n",
       "    <tr style=\"text-align: right;\">\n",
       "      <th></th>\n",
       "      <th>numeric_1</th>\n",
       "      <th>numeric_2</th>\n",
       "      <th>numeric_3</th>\n",
       "      <th>numeric_4</th>\n",
       "      <th>category</th>\n",
       "    </tr>\n",
       "  </thead>\n",
       "  <tbody>\n",
       "    <tr>\n",
       "      <th>0</th>\n",
       "      <td>-1.130571</td>\n",
       "      <td>82.667893</td>\n",
       "      <td>870.960599</td>\n",
       "      <td>-49.616648</td>\n",
       "      <td>B</td>\n",
       "    </tr>\n",
       "    <tr>\n",
       "      <th>1</th>\n",
       "      <td>0.696200</td>\n",
       "      <td>149.952021</td>\n",
       "      <td>1448.827527</td>\n",
       "      <td>NaN</td>\n",
       "      <td>E</td>\n",
       "    </tr>\n",
       "    <tr>\n",
       "      <th>2</th>\n",
       "      <td>-0.432293</td>\n",
       "      <td>95.381556</td>\n",
       "      <td>1208.062123</td>\n",
       "      <td>-53.561010</td>\n",
       "      <td>E</td>\n",
       "    </tr>\n",
       "    <tr>\n",
       "      <th>3</th>\n",
       "      <td>0.741020</td>\n",
       "      <td>113.178336</td>\n",
       "      <td>1257.316620</td>\n",
       "      <td>-55.271860</td>\n",
       "      <td>N</td>\n",
       "    </tr>\n",
       "    <tr>\n",
       "      <th>4</th>\n",
       "      <td>NaN</td>\n",
       "      <td>128.089392</td>\n",
       "      <td>NaN</td>\n",
       "      <td>-41.707443</td>\n",
       "      <td>E</td>\n",
       "    </tr>\n",
       "    <tr>\n",
       "      <th>...</th>\n",
       "      <td>...</td>\n",
       "      <td>...</td>\n",
       "      <td>...</td>\n",
       "      <td>...</td>\n",
       "      <td>...</td>\n",
       "    </tr>\n",
       "    <tr>\n",
       "      <th>995</th>\n",
       "      <td>1.134594</td>\n",
       "      <td>91.012745</td>\n",
       "      <td>1000.290201</td>\n",
       "      <td>-56.717625</td>\n",
       "      <td>A</td>\n",
       "    </tr>\n",
       "    <tr>\n",
       "      <th>996</th>\n",
       "      <td>NaN</td>\n",
       "      <td>107.804203</td>\n",
       "      <td>719.148627</td>\n",
       "      <td>NaN</td>\n",
       "      <td>E</td>\n",
       "    </tr>\n",
       "    <tr>\n",
       "      <th>997</th>\n",
       "      <td>0.616466</td>\n",
       "      <td>71.289795</td>\n",
       "      <td>954.467795</td>\n",
       "      <td>-50.364850</td>\n",
       "      <td>E</td>\n",
       "    </tr>\n",
       "    <tr>\n",
       "      <th>998</th>\n",
       "      <td>0.159027</td>\n",
       "      <td>101.845185</td>\n",
       "      <td>841.289897</td>\n",
       "      <td>-45.493213</td>\n",
       "      <td>B</td>\n",
       "    </tr>\n",
       "    <tr>\n",
       "      <th>999</th>\n",
       "      <td>0.361295</td>\n",
       "      <td>109.530138</td>\n",
       "      <td>1178.288383</td>\n",
       "      <td>-54.440733</td>\n",
       "      <td>C</td>\n",
       "    </tr>\n",
       "  </tbody>\n",
       "</table>\n",
       "<p>1000 rows × 5 columns</p>\n",
       "</div>"
      ],
      "text/plain": [
       "     numeric_1   numeric_2    numeric_3  numeric_4 category\n",
       "0    -1.130571   82.667893   870.960599 -49.616648        B\n",
       "1     0.696200  149.952021  1448.827527        NaN        E\n",
       "2    -0.432293   95.381556  1208.062123 -53.561010        E\n",
       "3     0.741020  113.178336  1257.316620 -55.271860        N\n",
       "4          NaN  128.089392          NaN -41.707443        E\n",
       "..         ...         ...          ...        ...      ...\n",
       "995   1.134594   91.012745  1000.290201 -56.717625        A\n",
       "996        NaN  107.804203   719.148627        NaN        E\n",
       "997   0.616466   71.289795   954.467795 -50.364850        E\n",
       "998   0.159027  101.845185   841.289897 -45.493213        B\n",
       "999   0.361295  109.530138  1178.288383 -54.440733        C\n",
       "\n",
       "[1000 rows x 5 columns]"
      ]
     },
     "execution_count": 8,
     "metadata": {},
     "output_type": "execute_result"
    }
   ],
   "source": [
    "np.random.seed(400)\n",
    "n_rows = 1000\n",
    "numeric_1 = np.random.normal(loc=0, scale=1, size=n_rows)\n",
    "numeric_2 = np.random.normal(loc=100, scale=20, size=n_rows)\n",
    "numeric_3 = np.random.normal(loc=1000, scale=200, size=n_rows)\n",
    "numeric_4 = np.random.normal(loc=-50, scale=5, size=n_rows)\n",
    "categories = [\"A\", \"B\", \"C\", \"D\", \"E\"]\n",
    "random_letters = np.random.choice(categories, size=n_rows)\n",
    "\n",
    "for col in [numeric_1, numeric_2, numeric_3, numeric_4]:\n",
    "    mask = np.random.rand(n_rows) < 0.05\n",
    "    col[mask] = np.nan\n",
    "\n",
    "mask = np.random.rand(n_rows) < 0.05\n",
    "random_letters[mask] = None\n",
    "\n",
    "df = pd.DataFrame({'numeric_1': numeric_1, 'numeric_2': numeric_2,'numeric_3': numeric_3, 'numeric_4': numeric_4, 'category': random_letters})\n",
    "df"
   ]
  },
  {
   "cell_type": "code",
   "execution_count": 11,
   "id": "d660fce9",
   "metadata": {
    "additional_cells_expected": true,
    "part_id": "2-part1",
    "span": "2-part1.code",
    "student": true
   },
   "outputs": [
    {
     "data": {
      "text/html": [
       "<div>\n",
       "<style scoped>\n",
       "    .dataframe tbody tr th:only-of-type {\n",
       "        vertical-align: middle;\n",
       "    }\n",
       "\n",
       "    .dataframe tbody tr th {\n",
       "        vertical-align: top;\n",
       "    }\n",
       "\n",
       "    .dataframe thead th {\n",
       "        text-align: right;\n",
       "    }\n",
       "</style>\n",
       "<table border=\"1\" class=\"dataframe\">\n",
       "  <thead>\n",
       "    <tr style=\"text-align: right;\">\n",
       "      <th></th>\n",
       "      <th>numeric_1</th>\n",
       "      <th>numeric_2</th>\n",
       "      <th>numeric_3</th>\n",
       "      <th>numeric_4</th>\n",
       "      <th>category</th>\n",
       "      <th>target</th>\n",
       "    </tr>\n",
       "  </thead>\n",
       "  <tbody>\n",
       "    <tr>\n",
       "      <th>0</th>\n",
       "      <td>-1.130571</td>\n",
       "      <td>82.667893</td>\n",
       "      <td>870.960599</td>\n",
       "      <td>-49.616648</td>\n",
       "      <td>B</td>\n",
       "      <td>False</td>\n",
       "    </tr>\n",
       "    <tr>\n",
       "      <th>1</th>\n",
       "      <td>0.696200</td>\n",
       "      <td>149.952021</td>\n",
       "      <td>1448.827527</td>\n",
       "      <td>NaN</td>\n",
       "      <td>E</td>\n",
       "      <td>False</td>\n",
       "    </tr>\n",
       "    <tr>\n",
       "      <th>2</th>\n",
       "      <td>-0.432293</td>\n",
       "      <td>95.381556</td>\n",
       "      <td>1208.062123</td>\n",
       "      <td>-53.561010</td>\n",
       "      <td>E</td>\n",
       "      <td>True</td>\n",
       "    </tr>\n",
       "    <tr>\n",
       "      <th>3</th>\n",
       "      <td>0.741020</td>\n",
       "      <td>113.178336</td>\n",
       "      <td>1257.316620</td>\n",
       "      <td>-55.271860</td>\n",
       "      <td>N</td>\n",
       "      <td>True</td>\n",
       "    </tr>\n",
       "    <tr>\n",
       "      <th>4</th>\n",
       "      <td>NaN</td>\n",
       "      <td>128.089392</td>\n",
       "      <td>NaN</td>\n",
       "      <td>-41.707443</td>\n",
       "      <td>E</td>\n",
       "      <td>False</td>\n",
       "    </tr>\n",
       "    <tr>\n",
       "      <th>...</th>\n",
       "      <td>...</td>\n",
       "      <td>...</td>\n",
       "      <td>...</td>\n",
       "      <td>...</td>\n",
       "      <td>...</td>\n",
       "      <td>...</td>\n",
       "    </tr>\n",
       "    <tr>\n",
       "      <th>995</th>\n",
       "      <td>1.134594</td>\n",
       "      <td>91.012745</td>\n",
       "      <td>1000.290201</td>\n",
       "      <td>-56.717625</td>\n",
       "      <td>A</td>\n",
       "      <td>True</td>\n",
       "    </tr>\n",
       "    <tr>\n",
       "      <th>996</th>\n",
       "      <td>NaN</td>\n",
       "      <td>107.804203</td>\n",
       "      <td>719.148627</td>\n",
       "      <td>NaN</td>\n",
       "      <td>E</td>\n",
       "      <td>False</td>\n",
       "    </tr>\n",
       "    <tr>\n",
       "      <th>997</th>\n",
       "      <td>0.616466</td>\n",
       "      <td>71.289795</td>\n",
       "      <td>954.467795</td>\n",
       "      <td>-50.364850</td>\n",
       "      <td>E</td>\n",
       "      <td>True</td>\n",
       "    </tr>\n",
       "    <tr>\n",
       "      <th>998</th>\n",
       "      <td>0.159027</td>\n",
       "      <td>101.845185</td>\n",
       "      <td>841.289897</td>\n",
       "      <td>-45.493213</td>\n",
       "      <td>B</td>\n",
       "      <td>False</td>\n",
       "    </tr>\n",
       "    <tr>\n",
       "      <th>999</th>\n",
       "      <td>0.361295</td>\n",
       "      <td>109.530138</td>\n",
       "      <td>1178.288383</td>\n",
       "      <td>-54.440733</td>\n",
       "      <td>C</td>\n",
       "      <td>True</td>\n",
       "    </tr>\n",
       "  </tbody>\n",
       "</table>\n",
       "<p>1000 rows × 6 columns</p>\n",
       "</div>"
      ],
      "text/plain": [
       "     numeric_1   numeric_2    numeric_3  numeric_4 category  target\n",
       "0    -1.130571   82.667893   870.960599 -49.616648        B   False\n",
       "1     0.696200  149.952021  1448.827527        NaN        E   False\n",
       "2    -0.432293   95.381556  1208.062123 -53.561010        E    True\n",
       "3     0.741020  113.178336  1257.316620 -55.271860        N    True\n",
       "4          NaN  128.089392          NaN -41.707443        E   False\n",
       "..         ...         ...          ...        ...      ...     ...\n",
       "995   1.134594   91.012745  1000.290201 -56.717625        A    True\n",
       "996        NaN  107.804203   719.148627        NaN        E   False\n",
       "997   0.616466   71.289795   954.467795 -50.364850        E    True\n",
       "998   0.159027  101.845185   841.289897 -45.493213        B   False\n",
       "999   0.361295  109.530138  1178.288383 -54.440733        C    True\n",
       "\n",
       "[1000 rows x 6 columns]"
      ]
     },
     "execution_count": 11,
     "metadata": {},
     "output_type": "execute_result"
    }
   ],
   "source": [
    "np.random.seed(400)\n",
    "cat_map = {cat: i for i, cat in enumerate(categories)}\n",
    "\n",
    "noise = np.random.normal(0, 1, n_rows)\n",
    "calculation = (\n",
    "    0.3 * df['numeric_1'].fillna(0) +\n",
    "    0.01 * df['numeric_2'].fillna(0) +\n",
    "    0.001 * df['numeric_3'].fillna(0) -\n",
    "    0.2 * df['numeric_4'].fillna(0) +\n",
    "    noise\n",
    ")\n",
    "\n",
    "df['target'] = calculation > np.median(calculation)\n",
    "\n",
    "df"
   ]
  },
  {
   "cell_type": "markdown",
   "id": "53678de6",
   "metadata": {
    "problem_id": "ex2"
   },
   "source": [
    "#### Exercise 3\n",
    "\n",
    "Use whatever resources you need to figure out how to build an SKLearn ML pipelines. Use a pipeline to build an ML approach to predicting your target column in the preceding data with logistic regression.  I have set up the problem below so that you will write your code in a function function call that takes an SKLearn model and data frame and returns the results of a cross validation scoring routine.  \n",
    "\n",
    "I have not taught you how to do this; use the book, google, the notes, chatgpt, or whatever. This is a test of your ability to *find* information, and use this to construct a solution. Your solution should:\n",
    "\n",
    "- Use a transformer pipeline that processes your numeric and categorical features separately\n",
    "- Place everything in a pipeline with the classifier that is passed in to the function.\n",
    "- I've already implemented the call to cross_val_score - to make it work, you'll need to assign your pipeline to the `pipeline` variable.\n",
    "\n",
    "_Note: You could just feed this question to AI and get an answer, and chances are, it will be right. But if you do, you won't really learn much. So, be thoughtful in your use of AI here - you can use it to build the solution step by step, and it will explain how everything works. It's all in how you use it. So, it's your choice - go for the easy grade, or learn something._"
   ]
  },
  {
   "cell_type": "code",
   "execution_count": 13,
   "id": "f4bd23a7",
   "metadata": {
    "part_id": "ex2-part1",
    "span": "ex2-part1.fill",
    "student": true
   },
   "outputs": [
    {
     "name": "stdout",
     "output_type": "stream",
     "text": [
      "F1 (5-fold): mean=0.901, std=0.019\n",
      "Fold scores: [0.907 0.925 0.897 0.869 0.908]\n"
     ]
    }
   ],
   "source": [
    "# --- Imports\n",
    "import numpy as np\n",
    "import pandas as pd\n",
    "\n",
    "from sklearn.compose import ColumnTransformer\n",
    "from sklearn.impute import SimpleImputer\n",
    "from sklearn.preprocessing import OneHotEncoder, StandardScaler\n",
    "from sklearn.pipeline import Pipeline\n",
    "from sklearn.linear_model import LogisticRegression\n",
    "from sklearn.model_selection import cross_val_score\n",
    "\n",
    "def run_classifier(df, classifier):\n",
    "    # Separate features/target\n",
    "    y = df[\"target\"].astype(int)  # logistic expects numeric; 0/1 from boolean\n",
    "    X = df.drop(columns=[\"target\"])\n",
    "\n",
    "    #You fill in the pipeline definition.  Make sure to:\n",
    "    cat_cols = X.select_dtypes(include=[\"object\", \"category\"]).columns\n",
    "    num_cols = X.select_dtypes(include=[\"number\", \"bool\"]).columns\n",
    "\n",
    "    cat_pipe = Pipeline([(\"imputer\", SimpleImputer(strategy=\"most_frequent\")), (\"encoder\", OneHotEncoder(handle_unknown=\"ignore\"))])\n",
    "    # - process categorical features (using an imputer and one hot encoder)\n",
    "    \n",
    "    num_pipe = Pipeline([(\"imputer\", SimpleImputer(strategy=\"mean\")), (\"scaler\", StandardScaler())])\n",
    "    # - process numeric features (using an imputer and StandardScaler)\n",
    "    \n",
    "    preprocessing = ColumnTransformer([(\"categorical\", cat_pipe, cat_cols), (\"numeric\",  num_pipe, num_cols)])\n",
    "\n",
    "    # Full pipeline\n",
    "    pipeline = Pipeline([(\"preprocessing\", preprocessing), (\"classifier\", classifier)])\n",
    "    # - define your pipeline using `pipeline = ...`\n",
    "\n",
    "\n",
    "# TODO: Replace with your code (fill)\n",
    "    # --- 5-fold CV using F1\n",
    "    return cross_val_score(pipeline, X, y, scoring=\"f1\", cv=5)\n",
    "\n",
    "\n",
    "scores = run_classifier(df, LogisticRegression(random_state=42))\n",
    "print(f\"F1 (5-fold): mean={scores.mean():.3f}, std={scores.std():.3f}\")\n",
    "print(\"Fold scores:\", np.round(scores, 3))"
   ]
  },
  {
   "cell_type": "markdown",
   "id": "0f06eb0b",
   "metadata": {
    "part_id": "ex2-part2"
   },
   "source": [
    "Try using a `RandomForestClassifier` in the preceding pipeline. Just call `run_classifier` with a `RandomForestClassifier`, and print out the results as above."
   ]
  },
  {
   "cell_type": "code",
   "execution_count": 15,
   "id": "a65de74c",
   "metadata": {
    "part_id": "ex2-part2",
    "span": "ex2-part2.code",
    "student": true
   },
   "outputs": [
    {
     "name": "stdout",
     "output_type": "stream",
     "text": [
      "F1 (5-fold): mean=0.903, std=0.023\n",
      "Fold scores: [0.878 0.918 0.882 0.898 0.939]\n"
     ]
    }
   ],
   "source": [
    "from sklearn.ensemble import RandomForestClassifier\n",
    "scores = run_classifier(df,  RandomForestClassifier(random_state=42))\n",
    "print(f\"F1 (5-fold): mean={scores.mean():.3f}, std={scores.std():.3f}\")\n",
    "print(\"Fold scores:\", np.round(scores, 3))"
   ]
  },
  {
   "cell_type": "markdown",
   "id": "66bbb3b1",
   "metadata": {
    "part_id": "ex2-part3"
   },
   "source": [
    "Normally, `RandomForestClassifier`s are considered to be more powerful than `LogisticRegression`.  Depending on your data, this may or may not be the case. Reflect on your answers - which one does better here, and why do you think that is?  Once again, you might use AI, but you should probably also try to _understand_ the answer."
   ]
  },
  {
   "cell_type": "markdown",
   "id": "bdb72f7e",
   "metadata": {
    "part_id": "ex2-part3",
    "span": "ex2-part3.answer",
    "student": true
   },
   "source": [
    "Both regression types work well compared to one another since their results are fairly similar, with F1 means 0.002 apart and standard deviations .04 apart. For this specific result, the Linear Regression Model probably works the best out of the two models. I think that the logistic regression is doing almost as well as the Random Forest for this data because the true relationship might be linear, which is why logistic regression works well since it gives the same analysis as a more advanced model like Random Forest."
   ]
  }
 ],
 "metadata": {
  "kernelspec": {
   "display_name": "Python 3",
   "language": "python",
   "name": "python3"
  },
  "language_info": {
   "codemirror_mode": {
    "name": "ipython",
    "version": 3
   },
   "file_extension": ".py",
   "mimetype": "text/x-python",
   "name": "python",
   "nbconvert_exporter": "python",
   "pygments_lexer": "ipython3",
   "version": "3.12.1"
  }
 },
 "nbformat": 4,
 "nbformat_minor": 5
}
